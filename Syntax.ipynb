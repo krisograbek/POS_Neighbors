{
  "nbformat": 4,
  "nbformat_minor": 0,
  "metadata": {
    "colab": {
      "name": "Syntax.ipynb",
      "provenance": [],
      "collapsed_sections": [],
      "toc_visible": true,
      "authorship_tag": "ABX9TyOEVjVU5iKZ0f3rZn49qEMi",
      "include_colab_link": true
    },
    "kernelspec": {
      "name": "python3",
      "display_name": "Python 3"
    },
    "language_info": {
      "name": "python"
    }
  },
  "cells": [
    {
      "cell_type": "markdown",
      "metadata": {
        "id": "view-in-github",
        "colab_type": "text"
      },
      "source": [
        "<a href=\"https://colab.research.google.com/github/krispudzian/POS_Neighbors/blob/main/Syntax.ipynb\" target=\"_parent\"><img src=\"https://colab.research.google.com/assets/colab-badge.svg\" alt=\"Open In Colab\"/></a>"
      ]
    },
    {
      "cell_type": "markdown",
      "metadata": {
        "id": "x8vtXjMTJCBj"
      },
      "source": [
        "## Pay Attention to Your Neighbors: A Simple Approach to the Part Of Speech Tagging\n",
        "\n",
        "Understanding a native language is one of the most natural skills. We produce and consume words just as easily as we breathe. However, understanding a language is a complex process. There are words, that have multiple meanings. We hide the true meaning behind jokes or sarcasm. But we can take advantage of the context, we have some sense of humor, and we know what sarcasm is. Despite all these challenges, we usually get the meaning. Do computers get it? Well, this is one of the biggest challenges in Natural Language Processing. \n",
        "\n",
        "\n",
        "In this article, I write about the part-of-speech tagging, the sentence syntax, and multiple meanings of words. I give some examples of homonyms. At the end I use Python's spaCy to show, how it's parser handles the task of tagging.\n",
        "\n",
        "## Table of Contents\n",
        "\n",
        "1. [Part of Speech Tagging](#tagging)\n",
        "2. [Definition of Syntax](#syntax)\n",
        "3. [Information from Neighbors](#neighbors)\n",
        "4. [Different meanings of the same word](#diff-meaning)\n",
        "5. [Examples](#examples)\n",
        "    - [Kind](#kind)\n",
        "    - [Leaves](#leaves)\n",
        "    - [Rose](#rose)\n",
        "    - [Arm](#arm)\n",
        "6. [Wrap Up](#wrap-up)\n",
        "7. [References](#refs)\n",
        "\n"
      ]
    },
    {
      "cell_type": "markdown",
      "metadata": {
        "id": "CChU5NQLleV6"
      },
      "source": [
        "## Part of Speech Tagging <a name=\"tagging\"></a>\n",
        "\n",
        "Knowledge of a word itself isn't enough in many NLP tasks, such as Semantic Analysis, or Information Retrieval. For example you can *read a book* or *book a flight*. How can we distinguish different meanings of **book**? This is when knowing word's part of speech is helpful. \n",
        "Part of speech (POS) is a category of words with similar syntactic behavior, i.e. they play similar roles within sentences. The lexical category is a fancy way of saying part of speech.\n",
        "\n",
        "The process of assigning each word in the text to a certain category is called part-of-speech tagging. It isn't an easy task, but text parsers take advantage of some details.\n",
        "\n",
        "### Main Sources of Information for POS Tagging\n",
        "\n",
        "*   Knowledge of neighboring words. There are many syntactic rules, that exclude some parts of speech\n",
        "*   Knowledge of word probabilities. For example, **man** can be a verb, but way more often is a noun.\n",
        "*   Checking prefixes: unfaithful, un- -> likely an adjective\n",
        "*   Checking suffixes: importantly, -ly -> likely an adverb\n",
        "*   Capitalization in the middle of sentence -> likely a proper noun (name, country, etc.)\n",
        "\n",
        "In this article, we focus on the first piece of information. How is knowledge of neighboring words useful in the process of tagging? Time to get to know the syntax.\n",
        "\n"
      ]
    },
    {
      "cell_type": "markdown",
      "metadata": {
        "id": "97GO1Lk1jgDo"
      },
      "source": [
        "## Syntax <a name=\"syntax\"></a>\n",
        "\n",
        "Syntax is a study of the ordering of components in phrases or sentences. It allows us to combine words into phrases and sentences. Every language has a certain order of words, a certain way that someone thinks when he speaks. Native English speakers think in the SVO (Subject-Verb-Object) order. It's the only natural way of thinking.\n",
        "\n",
        "Let's take the sentence: I study law. This is a typical SVO sentence, where I is the subject (S), study the verb (V), and law the object (O). Now, try to change the order of these 3 words to whatever other than SVO: I law study(SOV), or Study I law(VSO). They sound extremely unnatural because it's not how English speakers produce thoughts.\n",
        "\n",
        "I know what you might think. \"Why would you change the order of these words in the first place? Nobody speaks like this!\" Not in English but there are thousands of other languages. How does the following sentence sound to you? \"He knows that I Canada already with my parents visited have.\" Weird, right? In this order, German natives produce thoughts, when they speak their language. To make it even funnier, English and German belong to the same family of languages - West Germanic."
      ]
    },
    {
      "cell_type": "markdown",
      "metadata": {
        "id": "DSwQ1aKmc_Xg"
      },
      "source": [
        "## Information from Neighbors <a name=\"neighbors\"></a>\n",
        "\n",
        "What I'm saying is that we cannot put words together in any order to have a well-formed sentence. It means, there are rules we must obey. And we usually do as I already explained in the previous passage. We immediately notice when someone breaks the rules. However, computers don't know them. We need to teach them. Luckily, knowing the part of speech of a word gives us information about its neighbors. Here are some syntactic structure rules: \n",
        "\n",
        "1.   Adjectives never describe verbs, adverbs, or other adjectives\n",
        "2.   Adjectives precede nouns or pronouns\n",
        "3.   Determiners precede adjectives or nouns\n",
        "4.   Determiners or adjectives never precede verbs\n",
        "5.   Adverbs never describe nouns\n",
        "6.   Pronouns are words used in place of nouns.\n",
        "\n"
      ]
    },
    {
      "cell_type": "markdown",
      "metadata": {
        "id": "0G2uB3VzMbGp"
      },
      "source": [
        "## Different meanings of the same word <a name=\"diff-meaning\"></a>\n",
        "\n",
        "We can't assign a part of speech only by looking at a word itself. Many words have multiple meanings. Homonyms are words, that have the same spelling and pronunciation but different meanings and origins. We need the context to get the correct sense. Finding it is not an easy task for computers.\n",
        "Word-Sense Disambiguation (WSD) is the process of identifying which sense of a word is used in a sentence.\n"
      ]
    },
    {
      "cell_type": "markdown",
      "metadata": {
        "id": "fNLWDI7sA6Yi"
      },
      "source": [
        "## Examples <a name=\"examples\"></a>\n",
        "\n",
        "I'll give you some homonym examples here. Let's see if we can assign the correct part of speech only by looking at syntactic rules about neighbors."
      ]
    },
    {
      "cell_type": "code",
      "metadata": {
        "colab": {
          "base_uri": "https://localhost:8080/"
        },
        "id": "QpzAoT5jEUq4",
        "outputId": "36a55ce3-f417-415d-bac2-182afe6fd8c7"
      },
      "source": [
        "import spacy\n",
        "\n",
        "\n",
        "if int(spacy.__version__[0]) < 3:\n",
        "    !pip install -U pip setuptools wheel\n",
        "    !pip install -U spacy\n",
        "    !python -m spacy download en_core_web_sm\n",
        "    print(spacy.__version__)\n",
        "    print(\"Please restart runtime\")\n",
        "else:\n",
        "    print(spacy.__version__)\n",
        "\n"
      ],
      "execution_count": 1,
      "outputs": [
        {
          "output_type": "stream",
          "text": [
            "3.0.6\n"
          ],
          "name": "stdout"
        }
      ]
    },
    {
      "cell_type": "code",
      "metadata": {
        "id": "hAdPVzriAmFp"
      },
      "source": [
        "from termcolor import colored\n",
        "nlp = spacy.load('en_core_web_sm')\n",
        "\n",
        "\n",
        "def displayer(sentences, colored_word=\"\"):\n",
        "    \"\"\"\n",
        "        parameters:\n",
        "            sentences - a string containing sentences to be displayed\n",
        "            colored_word - a word to distinguish from the rest\n",
        "    \"\"\"\n",
        "    doc = nlp(sentences)\n",
        "\n",
        "    head_str = \"{0:>12} | {1} \".format(\"Word\", \"POS\")\n",
        "    print(head_str)\n",
        "    sents = [sent for sent in doc.sents if len(sent) > 2]\n",
        "\n",
        "    for sent in sents:\n",
        "        print(\" -- \"*10)\n",
        "        for token in sent[:-1]:\n",
        "            fixed_str = \"{0:>12} | {1}\".format(token.text, token.pos_)\n",
        "            if token.text == colored_word:\n",
        "                print(colored(fixed_str, \"blue\", attrs=[\"bold\"]))\n",
        "            else:\n",
        "                print(fixed_str)"
      ],
      "execution_count": 2,
      "outputs": []
    },
    {
      "cell_type": "markdown",
      "metadata": {
        "id": "m2noX2UDSkyb"
      },
      "source": [
        "### Leaves <a name=\"leaves\"></a>\n",
        "**Leaves** can be a noun as a plural form for a leaf, or a verb - 3rd person form for leave.\n",
        "\n",
        "In the first sentence, **leaves** is a noun, because it follows a determiner, hence it must not be a verb. In the second one, it's a verb because it comes after a noun."
      ]
    },
    {
      "cell_type": "code",
      "metadata": {
        "colab": {
          "base_uri": "https://localhost:8080/"
        },
        "id": "jAjg-Vr1cvp_",
        "outputId": "a10cceb0-3ad6-4d62-e57a-4395157f315c"
      },
      "source": [
        "sentences = \"The children love to play in the leaves. They do not like when their father leaves for work.\"\n",
        "displayer(sentences, \"leaves\")"
      ],
      "execution_count": 3,
      "outputs": [
        {
          "output_type": "stream",
          "text": [
            "        Word | POS \n",
            " --  --  --  --  --  --  --  --  --  -- \n",
            "         The | DET\n",
            "    children | NOUN\n",
            "        love | VERB\n",
            "          to | PART\n",
            "        play | VERB\n",
            "          in | ADP\n",
            "         the | DET\n",
            "\u001b[1m\u001b[34m      leaves | NOUN\u001b[0m\n",
            " --  --  --  --  --  --  --  --  --  -- \n",
            "        They | PRON\n",
            "          do | AUX\n",
            "         not | PART\n",
            "        like | VERB\n",
            "        when | ADV\n",
            "       their | PRON\n",
            "      father | NOUN\n",
            "\u001b[1m\u001b[34m      leaves | VERB\u001b[0m\n",
            "         for | ADP\n",
            "        work | NOUN\n"
          ],
          "name": "stdout"
        }
      ]
    },
    {
      "cell_type": "markdown",
      "metadata": {
        "id": "WXcX4pt4gsWh"
      },
      "source": [
        "### Rose <a name=\"rose\"></a>\n",
        "\n",
        "**Rose** can be a noun (a flower) or a past tense form of a verb to rise.\n",
        "\n",
        "In the first sentence, **rose** comes directly after a determiner so it cannot be a verb. In the second sentence, **rose** follows an adverb hence it cannot be a noun."
      ]
    },
    {
      "cell_type": "code",
      "metadata": {
        "colab": {
          "base_uri": "https://localhost:8080/"
        },
        "id": "Phvnoo08cwrn",
        "outputId": "513562d9-097c-4c1f-b632-929f3cbd8e5c"
      },
      "source": [
        "sentences = \"My favorite flower is a rose. He quickly rose from his seat.\"\n",
        "displayer(sentences, \"rose\")"
      ],
      "execution_count": 4,
      "outputs": [
        {
          "output_type": "stream",
          "text": [
            "        Word | POS \n",
            " --  --  --  --  --  --  --  --  --  -- \n",
            "          My | PRON\n",
            "    favorite | ADJ\n",
            "      flower | NOUN\n",
            "          is | AUX\n",
            "           a | DET\n",
            "\u001b[1m\u001b[34m        rose | NOUN\u001b[0m\n",
            " --  --  --  --  --  --  --  --  --  -- \n",
            "          He | PRON\n",
            "     quickly | ADV\n",
            "\u001b[1m\u001b[34m        rose | VERB\u001b[0m\n",
            "        from | ADP\n",
            "         his | PRON\n",
            "        seat | NOUN\n"
          ],
          "name": "stdout"
        }
      ]
    },
    {
      "cell_type": "markdown",
      "metadata": {
        "id": "o-4Yn1IRja52"
      },
      "source": [
        "### Arm <a name=\"arm\"></a>\n",
        "\n",
        "**Arm** can be a noun (a part of a human body) or a verb meaning to equip with something that strengthens.\n",
        "\n",
        "In the first sentence, **arm** follows a determiner so it cannot be a verb. In the second sentence, **arm** has only a noun's company hence it cannot be another noun."
      ]
    },
    {
      "cell_type": "code",
      "metadata": {
        "colab": {
          "base_uri": "https://localhost:8080/"
        },
        "id": "DdKRNSInJydi",
        "outputId": "845e033b-6876-46c5-9b6f-1ae13eaf863e"
      },
      "source": [
        "sentences = \"I have an ant bite on the arm. Schools arm children with an education.\"\n",
        "displayer(sentences, \"arm\")"
      ],
      "execution_count": 5,
      "outputs": [
        {
          "output_type": "stream",
          "text": [
            "        Word | POS \n",
            " --  --  --  --  --  --  --  --  --  -- \n",
            "           I | PRON\n",
            "        have | VERB\n",
            "          an | DET\n",
            "         ant | ADJ\n",
            "        bite | NOUN\n",
            "          on | ADP\n",
            "         the | DET\n",
            "\u001b[1m\u001b[34m         arm | NOUN\u001b[0m\n",
            " --  --  --  --  --  --  --  --  --  -- \n",
            "     Schools | NOUN\n",
            "\u001b[1m\u001b[34m         arm | VERB\u001b[0m\n",
            "    children | NOUN\n",
            "        with | ADP\n",
            "          an | DET\n",
            "   education | NOUN\n"
          ],
          "name": "stdout"
        }
      ]
    },
    {
      "cell_type": "markdown",
      "metadata": {
        "id": "p52F15BOSah9"
      },
      "source": [
        "### Kind <a name=\"kind\"></a>\n",
        "**Kind** can be a noun meaning *some type of*, or an adjective meaning *caring*.\n",
        "\n",
        "In the first sentence, **kind** follows a determiner and precedes a noun, so it's most likely an adjective. In the second sentence, **kind** precedes a preposition, so it cannot be an adjective, hence it is a noun."
      ]
    },
    {
      "cell_type": "code",
      "metadata": {
        "id": "OoGgTBC0Nw8W",
        "colab": {
          "base_uri": "https://localhost:8080/"
        },
        "outputId": "746e6392-7181-4ee1-9979-0bf88555ae12"
      },
      "source": [
        "sentences = \"He is a kind person. I like any kind of cheese.\"\n",
        "displayer(sentences, \"kind\")"
      ],
      "execution_count": 6,
      "outputs": [
        {
          "output_type": "stream",
          "text": [
            "        Word | POS \n",
            " --  --  --  --  --  --  --  --  --  -- \n",
            "          He | PRON\n",
            "          is | AUX\n",
            "           a | DET\n",
            "\u001b[1m\u001b[34m        kind | ADJ\u001b[0m\n",
            "      person | NOUN\n",
            " --  --  --  --  --  --  --  --  --  -- \n",
            "           I | PRON\n",
            "        like | VERB\n",
            "         any | DET\n",
            "\u001b[1m\u001b[34m        kind | NOUN\u001b[0m\n",
            "          of | ADP\n",
            "      cheese | NOUN\n"
          ],
          "name": "stdout"
        }
      ]
    },
    {
      "cell_type": "markdown",
      "metadata": {
        "id": "h3fZW1AMOqnS"
      },
      "source": [
        "As you can see, spacy's parser does a great job of identifying the correct part of speech of words. It performs well for simple sentences. I came across one mistake, that I find interesting.\n",
        "\n",
        "I don't know, why **kind** is assigned as an adverb. **Kind** can never be an adverb - **kindly** is an adverbial counterpart. Additionally, **kind** describes a noun and adverbs never do it. "
      ]
    },
    {
      "cell_type": "code",
      "metadata": {
        "id": "3eGIvibGOTbl",
        "colab": {
          "base_uri": "https://localhost:8080/"
        },
        "outputId": "57dac0f5-3884-4e6b-c9d4-5d7b02a3130c"
      },
      "source": [
        "sentences = \"Kind people make the world a better place.\"\n",
        "displayer(sentences, \"Kind\")"
      ],
      "execution_count": 7,
      "outputs": [
        {
          "output_type": "stream",
          "text": [
            "        Word | POS \n",
            " --  --  --  --  --  --  --  --  --  -- \n",
            "\u001b[1m\u001b[34m        Kind | ADV\u001b[0m\n",
            "      people | NOUN\n",
            "        make | VERB\n",
            "         the | DET\n",
            "       world | NOUN\n",
            "           a | DET\n",
            "      better | ADJ\n",
            "       place | NOUN\n"
          ],
          "name": "stdout"
        }
      ]
    },
    {
      "cell_type": "markdown",
      "metadata": {
        "id": "JUWT7c8nil-j"
      },
      "source": [
        "## Wrap-Up <a name=\"wrap-up\"></a>\n",
        "\n",
        "In this article, I focused on grammar and basic syntactic rules. They are so obvoius for us, we obey them unconsiously. One of NLP's tasks is to teach computers to pay attention to these rules. "
      ]
    },
    {
      "cell_type": "markdown",
      "metadata": {
        "id": "q24M99x6NCKV"
      },
      "source": [
        "# References <a name=\"refs\"></a>\n",
        "\n",
        "\n",
        "1. [Sequence Labeling for Parts of Speech](https://web.stanford.edu/~jurafsky/slp3/8.pdf)\n",
        "2. [Homonyms](https://grammar.yourdictionary.com/for-students-and-parents/words-with-multiple-meanings.html)\n",
        "3. [Video about English Syntax](https://www.youtube.com/watch?v=n9168PgGHBc&ab_channel=EvanAshworth)\n",
        "4. [Some Methods for Sequence Models for POS Tagging](https://www.youtube.com/watch?v=SkaPqBDPzKc&list=PLoROMvodv4rOFZnDyrlW3-nI7tMLtmiJZ&index=58&t=5s&ab_channel=stanfordonline)\n",
        "\n"
      ]
    }
  ]
}